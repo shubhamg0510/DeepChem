{
  "nbformat": 4,
  "nbformat_minor": 0,
  "metadata": {
    "colab": {
      "name": "SortNet1.ipynb",
      "provenance": [],
      "collapsed_sections": [],
      "include_colab_link": true
    },
    "kernelspec": {
      "name": "python3",
      "display_name": "Python 3"
    }
  },
  "cells": [
    {
      "cell_type": "markdown",
      "metadata": {
        "id": "view-in-github",
        "colab_type": "text"
      },
      "source": [
        "<a href=\"https://colab.research.google.com/github/shubhamg0510/DeepChem/blob/master/SortNet1.ipynb\" target=\"_parent\"><img src=\"https://colab.research.google.com/assets/colab-badge.svg\" alt=\"Open In Colab\"/></a>"
      ]
    },
    {
      "cell_type": "code",
      "metadata": {
        "id": "SWadXtMbkXbG",
        "colab_type": "code",
        "outputId": "4cd79645-f345-4bdc-b187-086acadf8d9d",
        "colab": {
          "base_uri": "https://localhost:8080/",
          "height": 34
        }
      },
      "source": [
        "from google.colab import drive\n",
        "drive.mount('/content/drive')"
      ],
      "execution_count": 1,
      "outputs": [
        {
          "output_type": "stream",
          "text": [
            "Drive already mounted at /content/drive; to attempt to forcibly remount, call drive.mount(\"/content/drive\", force_remount=True).\n"
          ],
          "name": "stdout"
        }
      ]
    },
    {
      "cell_type": "code",
      "metadata": {
        "id": "zAyossXdFCdM",
        "colab_type": "code",
        "colab": {}
      },
      "source": [
        "from __future__ import print_function\n",
        "import sys\n",
        "import torch\n",
        "#from PIL import Image\n",
        "import matplotlib.pyplot as pyplot\n",
        "import numpy as np\n",
        "from torch.autograd import Variable as V\n",
        "from torchvision import transforms, datasets, models\n",
        "from torch.autograd import Variable\n",
        "from torch.autograd import Function as F\n",
        "import torch.nn as nn\n",
        "import torch.nn.functional as F\n",
        "import torch.optim as optim\n",
        "from torch.optim.lr_scheduler import ReduceLROnPlateau\n",
        "import time\n",
        "import pandas as pd\n",
        "#from Datasets import Amazon_specific_item_pairs\n",
        "from sklearn.metrics import roc_auc_score"
      ],
      "execution_count": 0,
      "outputs": []
    },
    {
      "cell_type": "code",
      "metadata": {
        "id": "bMTbs6WMM2LZ",
        "colab_type": "code",
        "colab": {}
      },
      "source": [
        "from torch.utils.data import Dataset\n",
        "import torch\n",
        "import os\n",
        "from PIL import Image, ImageOps\n",
        "import matplotlib.pyplot as plt\n",
        "import torchvision.transforms as transforms\n",
        "import pandas as pd\n",
        "import numpy as np\n",
        "import cv2\n",
        "from random import sample\n",
        "from scipy import stats\n",
        "import torch.nn.functional as F\n",
        "from random import seed\n",
        "#seed(4523)\n",
        "import os\n",
        "\n",
        "class Amazon_specific_item_pairs(Dataset):\n",
        "    def __init__(self, root_dir, sample_type, img_size, batch_size):\n",
        "        self.root_dir = root_dir\n",
        "        self.item1_img_files = []\n",
        "        self.item2_img_files = []\n",
        "        self.img_size = img_size\n",
        "        self.attractive_img_files=[]\n",
        "        self.sample_type = sample_type\n",
        "\n",
        "        if(sample_type=='train'):\n",
        "          data = pd.read_csv(\"/content/drive/My Drive/Amazon_Same_Category_Pairs.csv\",nrows=20000)\n",
        "        else:\n",
        "          data = pd.read_csv(\"/content/drive/My Drive/Amazon_Same_Category_Pairs.csv\", nrows=9000)\n",
        "\n",
        "\n",
        "        # data = data.reset_index(drop=True)\n",
        "        # nb_rows = int(np.floor(len(data)/batch_size)*batch_size)\n",
        "        # data = data.sample(n=nb_rows)\n",
        "        # data = data.reset_index(drop=True)\n",
        "        # self.item1_img_files = list(data[\"item1_img_url\"])\n",
        "        # self.item2_img_files = list(data[\"item2_img_url\"])\n",
        "\n",
        "        # self.attractive_img_files = list(data['attractive_item_img_url'])\n",
        "        # # self.sample_type = list(data['sample'])\n",
        "        self.a = pd.read_csv(\"/content/drive/My Drive/Amazon_Same_Category_Pairs.csv\")\n",
        "        self.b=self.a.item1_img_url\n",
        "        self.c=self.a.item2_img_url\n",
        "        self.d=self.a.attractive_item_img_url\n",
        "        self.b=self.b[:4000]\n",
        "        self.c=self.c[:4000]\n",
        "        self.d=self.d[:4000]\n",
        "        self.b1=[q.split('/')[7] for q in self.b]\n",
        "        self.c1=[q.split('/')[7] for q in self.c]\n",
        "        self.d1=[q.split('/')[7] for q in self.d]\n",
        "        \n",
        "    def __len__(self):\n",
        "        return len(self.d)\n",
        "\n",
        "    def getvec(self,add,prefix):\n",
        "        img = Image.open(prefix+add)\n",
        "        img_t = transform(img)\n",
        "        batch_t = torch.unsqueeze(img_t, 0)\n",
        "        return batch_t\n",
        "\n",
        "    def __getitem__(self,idx):\n",
        "        # base=os.path.basename(self.item1_img_files[idx])\n",
        "        # item1_img = cv2.imread(\"/content/drive/My Drive/images/\"+base)\n",
        "        # base=os.path.basename(self.item2_img_files[idx])\n",
        "        # item2_img = cv2.imread(\"/content/drive/My Drive/images/\"+base)\n",
        "        # base=os.path.basename(self.attractive_img_files[idx])\n",
        "        # attractive_img = cv2.imread(\"/content/drive/My Drive/images/\"+base)\n",
        "        \n",
        "        # item1_img = cv2.resize(item1_img, (50,50))\n",
        "        # item2_img = cv2.resize(item2_img, (50,50))\n",
        "        # attractive_img = cv2.resize(attractive_img, (50,50))\n",
        "        # item1_img = self.resizeAndPad(,item1_img,self.img_size)\n",
        "        # item2_img = self.resizeAndPad(,item2_img,self.img_size)\n",
        "        # attractive_img = self.resizeAndPad(,attractive_img,self.img_size)\n",
        "        item1_img=self.getvec(self.b1[idx],\"/content/drive/My Drive/images/\")\n",
        "        item2_img=self.getvec(self.c1[idx],\"/content/drive/My Drive/images/\")\n",
        "        attractive_img=self.getvec(self.d1[idx],\"/content/drive/My Drive/images/\")\n",
        "\n",
        "\n",
        "        # label = self.attractive_img_files[idx]\n",
        "        # sample_type = self.sample_type\n",
        "        return item1_img, item2_img, attractive_img\n"
      ],
      "execution_count": 0,
      "outputs": []
    },
    {
      "cell_type": "code",
      "metadata": {
        "id": "K93yFIGHEJDF",
        "colab_type": "code",
        "colab": {}
      },
      "source": [
        "def weights_init(m):\n",
        "    if isinstance(m, nn.Linear):\n",
        "        nn.init.xavier_normal_(m.weight)\n",
        "        if m.bias is not None:\n",
        "            nn.init.zeros_(m.bias.data)"
      ],
      "execution_count": 0,
      "outputs": []
    },
    {
      "cell_type": "code",
      "metadata": {
        "id": "nVROm4XYuSYZ",
        "colab_type": "code",
        "colab": {}
      },
      "source": [
        "class SortNet(nn.Module):\n",
        "    def __init__(self, net_cnn):\n",
        "        super(SortNet, self).__init__()\n",
        "        self.img_encoder = nn.Sequential(*list(net_cnn.children())[:-1])\n",
        "        self.layer_1A = nn.Sequential(nn.Linear(2048,512,bias = True))\n",
        "        self.layer_1B = nn.Sequential(nn.Linear(2048,512,bias = True))\n",
        "        self.sig    = nn.Sigmoid()\n",
        "        self.layer_2A = nn.Sequential(nn.Linear(512,1,bias = True))\n",
        "        self.layer_2B = nn.Sequential(nn.Linear(512,1,bias = True))\n",
        "        \n",
        "    def forward(self,item1,item2):\n",
        "        print(\"fstart\")\n",
        "        item1 = torch.squeeze(item1)\n",
        "        item1 = self.img_encoder(item1)\n",
        "        item2 = torch.squeeze(item2)\n",
        "        item2 = self.img_encoder(item2)\n",
        "\n",
        "        print(\"forward1\")\n",
        "        #layer one\n",
        "        x_layer_1A = self.layer_1A(item1)\n",
        "        x_layer_1B = self.layer_1B(item1)\n",
        "        y_layer_1A = self.layer_1A(item2)\n",
        "        y_layer_1B = self.layer_1B(item2)\n",
        "        #left node of first layer\n",
        "        h_right_xy = torch.cat([x_layer_1A,y_layer_1B],dim=0)\n",
        "        h_right_xy = self.sig(h_right_xy)\n",
        "        #right node of first layer\n",
        "        h_left_xy = torch.cat([x_layer_1B + y_layer_1A],dim=0)\n",
        "        h_left_xy = self.sig(h_left_xy)\n",
        "        print(\"forward2\")\n",
        "        #layer two\n",
        "        p = h_right_xy\n",
        "        q = h_left_xy\n",
        "        \n",
        "        p_layer_2A = self.layer_2A(p)\n",
        "        p_layer_2B = self.layer_2B(p)\n",
        "        q_layer_2A = self.layer_2A(q)\n",
        "        q_layer_2B = self.layer_2B(q)\n",
        "            \n",
        "        n_right_xy = torch.cat([p_layer_2A + q_layer_2B],dim=0)\n",
        "        n_right_xy = self.sig(n_right_xy)\n",
        "            \n",
        "        n_left_xy = torch.cat([p_layer_2B + q_layer_2A],dim=0)\n",
        "        n_left_xy = self.sig(n_left_xy)\n",
        "        print(\"forward3\")   \n",
        "        return n_right_xy,n_left_xy"
      ],
      "execution_count": 0,
      "outputs": []
    },
    {
      "cell_type": "code",
      "metadata": {
        "id": "lBk4tkmpF1YO",
        "colab_type": "code",
        "outputId": "cbc30315-7766-4a88-ba8c-672f47ce89dc",
        "colab": {
          "base_uri": "https://localhost:8080/",
          "height": 69
        }
      },
      "source": [
        "net_cnn = models.resnet18(pretrained=True)\n",
        "net = SortNet(net_cnn)\n",
        "net.layer_1A.apply(weights_init)\n",
        "net.layer_1B.apply(weights_init)\n",
        "net.layer_2A.apply(weights_init)\n",
        "net.layer_2B.apply(weights_init)"
      ],
      "execution_count": 6,
      "outputs": [
        {
          "output_type": "execute_result",
          "data": {
            "text/plain": [
              "Sequential(\n",
              "  (0): Linear(in_features=512, out_features=1, bias=True)\n",
              ")"
            ]
          },
          "metadata": {
            "tags": []
          },
          "execution_count": 6
        }
      ]
    },
    {
      "cell_type": "code",
      "metadata": {
        "id": "bHPEEx7VKGTg",
        "colab_type": "code",
        "colab": {}
      },
      "source": [
        "num_classes = 1\n",
        "iterations = 100\n",
        "lr = 0.00005\n",
        "BatchSize = 256\n",
        "IMG_SIZE=224\n",
        "path = \"/home/debopriyo/ng_sural/data/BOXREC/\"\n",
        "#transform = transforms.Compose([transforms.ToTensor()])\n",
        "# # transform = transforms.Compose([transforms.ToPILImage(),\n",
        "#                                 transforms.RandomHorizontalFlip(),\n",
        "#                                 transforms.ToTensor(),\n",
        "#                                 transforms.Normalize([0.406, 0.456, 0.485], \n",
        "#                                                      [ 0.225, 0.224, 0.229])])\n",
        "from torchvision import transforms\n",
        "transform = transforms.Compose([            #[1]\n",
        " transforms.Resize(256),                    #[2]\n",
        " transforms.CenterCrop(224),                #[3]\n",
        " transforms.ToTensor(),                     #[4]\n",
        " transforms.Normalize(                      #[5]\n",
        " mean=[0.485, 0.456, 0.406],                #[6]\n",
        " std=[0.229, 0.224, 0.225]                  #[7]\n",
        " )])\n"
      ],
      "execution_count": 0,
      "outputs": []
    },
    {
      "cell_type": "code",
      "metadata": {
        "id": "gmz41F0NprLi",
        "colab_type": "code",
        "outputId": "8ffb3d34-c96d-4ef3-bb0a-f461ae77ad62",
        "colab": {
          "base_uri": "https://localhost:8080/",
          "height": 51
        }
      },
      "source": [
        "trainset = Amazon_specific_item_pairs(root_dir=path,sample_type='train', img_size = IMG_SIZE, batch_size = BatchSize)\n",
        "trainset_len = trainset.__len__()\n",
        "print('Trainset Length :', trainset_len)\n",
        "trainsetloader = torch.utils.data.DataLoader(trainset,batch_size=BatchSize,shuffle=True)\n",
        "                           \n",
        "valset = Amazon_specific_item_pairs(root_dir=path,sample_type='val', img_size = IMG_SIZE, batch_size = BatchSize)\n",
        "valset_len = valset.__len__()\n",
        "print('valset Length :', valset_len)\n",
        "valsetloader = torch.utils.data.DataLoader(valset,batch_size=BatchSize,shuffle=False)"
      ],
      "execution_count": 8,
      "outputs": [
        {
          "output_type": "stream",
          "text": [
            "Trainset Length : 4000\n",
            "valset Length : 4000\n"
          ],
          "name": "stdout"
        }
      ]
    },
    {
      "cell_type": "code",
      "metadata": {
        "id": "O_2YPn2Bp-cK",
        "colab_type": "code",
        "outputId": "3eef85ca-02f6-4916-8d55-bd9a9fcbb597",
        "colab": {
          "base_uri": "https://localhost:8080/",
          "height": 34
        }
      },
      "source": [
        "optimizer = optim.Adam(net.parameters(), lr = lr, weight_decay=0.00005)\n",
        "scheduler = ReduceLROnPlateau(optimizer, mode='min', factor=0.1)\n",
        "#%%\n",
        "use_gpu = torch.cuda.is_available()\n",
        "#use_gpu = False\n",
        "if use_gpu :\n",
        "    print('GPU is available...')\n",
        "    sys.stdout.flush()\n",
        "    net = net.cuda()\n",
        "    resnet18_model = resnet18_model.cuda()\n",
        "else:\n",
        "    print('GPU not available...')\n",
        "    sys.stdout.flush()\n",
        "\n",
        "#net_chkpt = torch.load('/home/debopriyo/ng_sural/data/DMLFCAD_'+pair_type+'/models/DMLFCAD_tw_bw_Model_Epoch_19_TrainAcc_84.412202_ValAcc_82.34375_0.748691.pth',map_location='cpu')\n",
        "#\n",
        "#net.load_state_dict(net_chkpt['state_dict'])\n",
        "\n",
        "#criterion = nn.BCELoss()\n",
        "criterion = nn.NLLLoss()\n",
        "# with open('/home/debopriyo/ng_sural/data/DMLFCAD_'+pair_type+'/models/DMLFCAD_'+pair_type+'_Model_Training_Validation_stats_lr_'+str(lr)+'.csv','w') as f:\n",
        "#     f.write('Epoch,LearningRate,AvgTrainLoss,AvgTrainAcc,Train_AUC,AvgValLoss,AvgValAcc,Val_AUC\\n')"
      ],
      "execution_count": 9,
      "outputs": [
        {
          "output_type": "stream",
          "text": [
            "GPU not available...\n"
          ],
          "name": "stdout"
        }
      ]
    },
    {
      "cell_type": "code",
      "metadata": {
        "id": "xkYasKDoqq-P",
        "colab_type": "code",
        "outputId": "82be9ebd-3e69-44b7-86ad-42626ce0735a",
        "colab": {
          "base_uri": "https://localhost:8080/",
          "height": 69
        }
      },
      "source": [
        "start = time.time()\n",
        "valAcc = []\n",
        "trainLoss = []\n",
        "valLoss = []\n",
        "for epoch in range(iterations):\n",
        "    \n",
        "    epochStart = time.time()\n",
        "    tr_runningLoss = 0.0\n",
        "    val_runningLoss = 0.0\n",
        "    tr_running_correct = 0\n",
        "    predicted_y = []\n",
        "    ground_truth_y = []\n",
        "    print(\"Epoch:\",epoch+1,\"started...\")\n",
        "    sys.stdout.flush()\n",
        "    for i, data in enumerate(trainsetloader, 0):\n",
        "        print(\"starting tr\")\n",
        "        net.train(True)\n",
        "        # resnet18_model.train(False)\n",
        "        item1_inputs, item2_inputs, labels = data\n",
        "\n",
        "\n",
        "        item1_inputs = item1_inputs.float()\n",
        "        item2_inputs = item2_inputs.float()\n",
        "\n",
        "        # wrap them in variable\n",
        "        if use_gpu:\n",
        "            item1_inputs, item2_inputs = Variable(item1_inputs.cuda()), Variable(item2_inputs.cuda())\n",
        "            labels = V(labels.cuda())\n",
        "  \n",
        "        else:\n",
        "            item1_inputs, item2_inputs = Variable(item1_inputs), Variable(item2_inputs)\n",
        "            labels = V(labels)\n",
        "\n",
        "        features_blobs = []\n",
        "        optimizer.zero_grad() # zeroes the gradient buffers of all parameters\n",
        "        \n",
        "        outputs = net(item1_inputs, item2_inputs) # forward\n",
        "        print(\"pos 1\")\n",
        "#        print(outputs.shape)\n",
        "        loss = criterion(torch.squeeze(F.sigmoid(outputs)), labels.float()) # calculate loss\n",
        "\n",
        "\n",
        "        loss.backward() # backpropagate the loss\n",
        "\n",
        "        optimizer.step()\n",
        "        \n",
        "        tr_runningLoss += loss.item()\n",
        "        \n",
        "        labels = labels.long()\n",
        "        print(\"pos 2\")\n",
        "        # output1=outputs[0]\n",
        "        # output2=outputs[1]\n",
        "        # if(output1>output2):\n",
        "        #   predicted_img=item1_inputs\n",
        "        #   predicted_num=0\n",
        "        # else:\n",
        "        #   predicted_img=item2_inputs\n",
        "        #   predicted_num=1\n",
        "        _, predicted = torch.max(outputs.data, 1)\n",
        "        print(predicted)\n",
        "        tr_running_correct += ((predicted==labels).sum()).item()\n",
        "        \n",
        "        predicted = predicted.cpu()\n",
        "        labels = labels.cpu()\n",
        "        \n",
        "#        predicted = predicted.long()\n",
        "#        labels = labels.long()\n",
        "        predicted_y += list(predicted.numpy())\n",
        "        ground_truth_y += list(labels.numpy())\n",
        "        \n",
        "        \n",
        "        print(\"Epoch :{:.0f} ; Batch : {:.0f} ; Training Loss : {:.6f} ; Training Accuracy : {:.6f}\".format(epoch+1, i+1, tr_runningLoss/(i+1),(tr_running_correct/((i+1)*BatchSize))*100))\n",
        "        sys.stdout.flush()\n",
        "    tr_auc = roc_auc_score(np.array(ground_truth_y),np.array(predicted_y))\n",
        "    avgTrainLoss = tr_runningLoss/(trainset_len/BatchSize)\n",
        "    avgTrainAcc = (tr_running_correct/(trainset.__len__()))*100\n",
        "    print(\"Epoch :{:.0f} ; Average Train Accuracy : {:.6f} ; Training AUC : {:.6f} ;\".format(epoch+1,avgTrainAcc,tr_auc))\n",
        "    sys.stdout.flush()\n",
        "    trainLoss.append(avgTrainLoss)\n",
        "\n",
        "    predicted_y = []\n",
        "    ground_truth_y = []\n",
        "    del predicted\n",
        "    del labels\n",
        "    print('Starting Validation...')\n",
        "    sys.stdout.flush()\n",
        "    with torch.no_grad():\n",
        "        net.train(False) # For validation\n",
        "#        resnet18_model.train(False)\n",
        "        val_running_correct = 0\n",
        "       \n",
        "        for i, data in enumerate(valsetloader, 0):\n",
        "            item1_inputs, item2_inputs, labels = data\n",
        "\n",
        "            item1_inputs = item1_inputs.float()\n",
        "            item2_inputs = item2_inputs.float()\n",
        "\n",
        "            # Wrap them in Vriable\n",
        "            if use_gpu:\n",
        "                item1_inputs, item2_inputs = Variable(item1_inputs.cuda()), Variable(item2_inputs.cuda())\n",
        "                labels = V(labels.cuda())\n",
        "\n",
        "            else:\n",
        "                item1_inputs, item2_inputs = Variable(item1_inputs), Variable(item2_inputs)\n",
        "                labels = V(labels)\n",
        "\n",
        "            \n",
        "            features_blobs = []\n",
        "            \n",
        "            outputs = net(item1_inputs, item2_inputs)\n",
        "            val_loss = criterion(torch.squeeze(F.sigmoid(outputs)), labels.float()) # calculate loss\n",
        "            \n",
        "            \n",
        "            #predicted = torch.squeeze(F.sigmoid(outputs.data)>0.5).long()\n",
        "            _, predicted = torch.max(outputs.data, 1)\n",
        "            labels = labels.long()\n",
        "                \n",
        "            \n",
        "            val_running_correct += ((predicted == labels).sum()).item()\n",
        "            val_runningLoss += val_loss.item()\n",
        "            \n",
        "            predicted = predicted.cpu()\n",
        "            labels = labels.cpu()\n",
        "            \n",
        "#            predicted = predicted.long()\n",
        "            \n",
        "            \n",
        "            predicted_y += list(predicted.numpy())\n",
        "            ground_truth_y += list(labels.numpy())\n",
        "            \n",
        "        avgValAcc = (val_running_correct/(valset.__len__()))*100\n",
        "        avgValLoss = val_runningLoss/(valset_len/BatchSize)\n",
        "        \n",
        "    scheduler.step(avgValLoss)\n",
        "    val_auc = roc_auc_score(np.array(ground_truth_y),np.array(predicted_y))\n",
        "    valAcc.append(avgValAcc)\n",
        "    print('Val Accuracy :',avgValAcc)\n",
        "    epochEnd = time.time()-epochStart\n",
        "    print('Iteration: {:.0f}/{:.0f} ; Training Loss: {:.6f} ; Training Accuracy : {:.6f} ; Training AUC : {:.6f} ; Validation Loss: {:.6f} ; Validation Accuracy: {:.6f} ; Validation AUC : {:6f} ; Time Consumed: {:.0f}m {:.0f}s'.\n",
        "          format(epoch + 1, iterations, avgTrainLoss, avgTrainAcc, tr_auc, avgValLoss, avgValAcc, val_auc, epochEnd//60, epochEnd%60))\n",
        "    \n",
        "    sys.stdout.flush()\n",
        "    model_path = \"/home/debopriyo/ng_sural/data/DMLFCAD_\"+pair_type+\"/models/DMLFCAD_\"+pair_type+\"_Model_Epoch_\"+\\\n",
        "                    str(epoch+1)+\"_TrainAcc_\"+str(round(avgTrainAcc,6))+\"_ValAcc_\"+\\\n",
        "                    str(round(avgValAcc,6))+\"_\"+str(round(val_auc,6))+\".pth\"\n",
        "    with open('/home/debopriyo/ng_sural/data/DMLFCAD_'+pair_type+'/models/DMLFCAD_'+pair_type+'_Model_Training_Validation_stats_lr_'+str(lr)+'.csv','a') as f:\n",
        "        f.write(str(epoch+1)+','+str(lr)+','+str(avgTrainLoss)+','+str(avgTrainAcc)+','+str(tr_auc)+','+str(avgValLoss)+','+str(avgValAcc)+','+str(val_auc)+'\\n')\n",
        "    torch.save({\n",
        "            'state_dict': net.state_dict()\n",
        "            }, model_path)\n",
        "    \n",
        "end = time.time() - start\n",
        "print('Training completed in {:.0f}m {:.0f}s'.format(end//60,end%60))\n",
        "sys.stdout.flush()"
      ],
      "execution_count": 0,
      "outputs": [
        {
          "output_type": "stream",
          "text": [
            "Epoch: 1 started...\n",
            "starting tr\n",
            "fstart\n"
          ],
          "name": "stdout"
        }
      ]
    },
    {
      "cell_type": "code",
      "metadata": {
        "id": "Qj9JcjAZvz4Q",
        "colab_type": "code",
        "colab": {}
      },
      "source": [
        ""
      ],
      "execution_count": 0,
      "outputs": []
    }
  ]
}